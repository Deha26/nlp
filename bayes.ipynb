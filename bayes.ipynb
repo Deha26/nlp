{
 "cells": [
  {
   "cell_type": "code",
   "execution_count": 1,
   "id": "84372f4b",
   "metadata": {},
   "outputs": [],
   "source": [
    "di = {\n",
    "    \"Fish\" : [\"bass eat super\",\"bass lunch excellent\",\"bass ate like\"],\n",
    "    \"Music\" : [\"bass play music\",\"bass interest play\"]\n",
    "}"
   ]
  },
  {
   "cell_type": "code",
   "execution_count": 2,
   "id": "7149b184",
   "metadata": {},
   "outputs": [
    {
     "name": "stdout",
     "output_type": "stream",
     "text": [
      "['bass', 'eat', 'super', 'lunch', 'excellent', 'ate', 'like', 'play', 'music', 'interest']\n",
      "5\n"
     ]
    }
   ],
   "source": [
    "uws = {}\n",
    "for i in di:\n",
    "    for j in di[i]:\n",
    "        wrds = j.split(' ')\n",
    "        for wrd in wrds:\n",
    "            if wrd not in uws:\n",
    "                uws[wrd] = 1\n",
    "            else:\n",
    "                uws[wrd] += 1\n",
    "\n",
    "voc = list(uws.keys())\n",
    "print(voc)\n",
    "v = len(voc)\n",
    "cw = 0\n",
    "for i in di:\n",
    "    cw += len(di[i])\n",
    "sensus = list(di.keys())\n",
    "print(cw)"
   ]
  },
  {
   "cell_type": "code",
   "execution_count": 3,
   "id": "93c5f7c2",
   "metadata": {},
   "outputs": [],
   "source": [
    "#Laplace Formula\n",
    "p={}\n",
    "for sk in sensus:\n",
    "    for vj in voc:\n",
    "        c_vjsk = 0\n",
    "        l_of_sen = di[sk]\n",
    "        for wl in l_of_sen:\n",
    "            c_vjsk += wl.count(vj)\n",
    "        p[(vj,sk)] = float((c_vjsk+1)/(len(di[sk])+v))\n",
    "\n",
    "psk = {}\n",
    "for sk in sensus:\n",
    "    psk[sk] = float(len(di[sk])/cw)"
   ]
  },
  {
   "cell_type": "code",
   "execution_count": 4,
   "id": "f6b9f538",
   "metadata": {},
   "outputs": [],
   "source": [
    "import math as m\n",
    "score = {}\n",
    "for sk in sensus:\n",
    "    score[sk] = float(m.log(psk[sk],10))\n",
    "    for vj in voc:\n",
    "        score[sk] = float(score[sk] + float(m.log(p[vj,sk],10)))"
   ]
  },
  {
   "cell_type": "code",
   "execution_count": 5,
   "id": "e53b93ad",
   "metadata": {},
   "outputs": [],
   "source": [
    "ui = \"bass super excellent play\"\n",
    "ui = ui.split(' ')"
   ]
  },
  {
   "cell_type": "code",
   "execution_count": 7,
   "id": "8fd5f893",
   "metadata": {},
   "outputs": [
    {
     "name": "stdout",
     "output_type": "stream",
     "text": [
      "Fish\n",
      "Fish init :  -0.22184874961635637\n",
      "Fish  :  -0.73\n",
      "Fish  :  -1.55\n",
      "Fish  :  -2.36\n",
      "Fish  :  -3.47\n",
      "Music\n",
      "Music init :  -0.39794000867203755\n",
      "Music  :  -1.0\n",
      "Music  :  -2.08\n",
      "Music  :  -3.16\n",
      "Music  :  -3.76\n",
      "For the given context, the sense is  Fish  with score :  -3.473502176187779\n"
     ]
    }
   ],
   "source": [
    "sc = {}\n",
    "for sk in sensus:\n",
    "    print(sk)\n",
    "    sc[sk] = float(m.log(psk[sk],10))\n",
    "    print(sk,\"init : \",sc[sk])\n",
    "    for vj in ui:\n",
    "        sc[sk] = float(float(sc[sk]) + float(m.log(p[vj,sk],10)))\n",
    "        print(sk,\" : \",round(sc[sk],2))\n",
    "\n",
    "maxn = -9999\n",
    "maxp = \"\"\n",
    "for s in sc:\n",
    "    if sc[s] > maxn :\n",
    "        maxn = float(sc[s])\n",
    "        maxp = s\n",
    "\n",
    "print(\"For the given context, the sense is \",maxp,\" with score : \",maxn)"
   ]
  },
  {
   "cell_type": "code",
   "execution_count": null,
   "id": "c30e70f5",
   "metadata": {},
   "outputs": [],
   "source": []
  },
  {
   "cell_type": "code",
   "execution_count": null,
   "id": "aa4b7527",
   "metadata": {},
   "outputs": [],
   "source": []
  }
 ],
 "metadata": {
  "kernelspec": {
   "display_name": "Python 3 (ipykernel)",
   "language": "python",
   "name": "python3"
  },
  "language_info": {
   "codemirror_mode": {
    "name": "ipython",
    "version": 3
   },
   "file_extension": ".py",
   "mimetype": "text/x-python",
   "name": "python",
   "nbconvert_exporter": "python",
   "pygments_lexer": "ipython3",
   "version": "3.11.4"
  }
 },
 "nbformat": 4,
 "nbformat_minor": 5
}
